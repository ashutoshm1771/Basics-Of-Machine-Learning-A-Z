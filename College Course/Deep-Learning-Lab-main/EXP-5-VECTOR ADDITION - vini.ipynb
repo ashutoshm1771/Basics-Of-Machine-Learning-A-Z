{
 "cells": [
  {
   "cell_type": "code",
   "execution_count": 1,
   "metadata": {},
   "outputs": [
    {
     "name": "stdout",
     "output_type": "stream",
     "text": [
      "The input arrays are :\n",
      " A: [4, 8, 7] \n",
      " B: [5, -4, 8]\n",
      "After addition the resulting array is : [ 9  4 15]\n"
     ]
    }
   ],
   "source": [
    "#https://www.codespeedy.com/vector-addition-and-subtraction-in-python/\n",
    "\n",
    "import numpy as NP\n",
    "A = [4, 8, 7]\n",
    "B = [5, -4, 8]\n",
    "print(\"The input arrays are :\\n\",\"A:\",A ,\"\\n\",\"B:\",B)\n",
    "Res= NP.add(A,B)\n",
    "print(\"After addition the resulting array is :\",Res)"
   ]
  },
  {
   "cell_type": "code",
   "execution_count": 2,
   "metadata": {},
   "outputs": [
    {
     "name": "stdout",
     "output_type": "stream",
     "text": [
      "The input arrays are :\n",
      " A: [4, 8, 7] \n",
      " B: [5, -4, 8]\n",
      "Result of Addition is : [ 9  4 15] \n",
      " Result of Subtraction is: [-1 12 -1]\n"
     ]
    }
   ],
   "source": [
    "import numpy as NP\n",
    "A = [4, 8, 7] \n",
    "B = [5, -4, 8] \n",
    "print(\"The input arrays are :\\n\",\"A:\",A ,\"\\n\",\"B:\",B)\n",
    "Res1= NP.add(A,B)\n",
    "Res2= NP.subtract(A,B) \n",
    "print(\"Result of Addition is :\",Res1,\"\\n\",\"Result of Subtraction is:\",Res2)"
   ]
  },
  {
   "cell_type": "code",
   "execution_count": 3,
   "metadata": {},
   "outputs": [
    {
     "name": "stdout",
     "output_type": "stream",
     "text": [
      "[1 2 3]\n"
     ]
    }
   ],
   "source": [
    "# create a vector\n",
    "from numpy import array\n",
    "v = array([1, 2, 3])\n",
    "print(v)"
   ]
  },
  {
   "cell_type": "code",
   "execution_count": 4,
   "metadata": {},
   "outputs": [
    {
     "name": "stdout",
     "output_type": "stream",
     "text": [
      "[1 2 3]\n",
      "[1 2 3]\n",
      "[2 4 6]\n"
     ]
    }
   ],
   "source": [
    "from numpy import array\n",
    "a = array([1, 2, 3])\n",
    "print(a)\n",
    "b = array([1, 2, 3])\n",
    "print(b)\n",
    "c = a + b\n",
    "print(c)"
   ]
  },
  {
   "cell_type": "code",
   "execution_count": 5,
   "metadata": {},
   "outputs": [
    {
     "name": "stdout",
     "output_type": "stream",
     "text": [
      "[1 2 3]\n",
      "[0.5 0.5 0.5]\n",
      "[0.5 1.5 2.5]\n"
     ]
    }
   ],
   "source": [
    "from numpy import array\n",
    "a = array([1, 2, 3])\n",
    "print(a)\n",
    "b = array([0.5, 0.5, 0.5])\n",
    "print(b)\n",
    "c = a - b\n",
    "print(c)"
   ]
  },
  {
   "cell_type": "code",
   "execution_count": 6,
   "metadata": {},
   "outputs": [
    {
     "name": "stdout",
     "output_type": "stream",
     "text": [
      "[1 2 3]\n",
      "[1 2 3]\n",
      "[1 4 9]\n"
     ]
    }
   ],
   "source": [
    "# multiply vectors\n",
    "from numpy import array\n",
    "a = array([1, 2, 3])\n",
    "print(a)\n",
    "b = array([1, 2, 3])\n",
    "print(b)\n",
    "c = a * b\n",
    "print(c)"
   ]
  },
  {
   "cell_type": "code",
   "execution_count": 7,
   "metadata": {},
   "outputs": [
    {
     "name": "stdout",
     "output_type": "stream",
     "text": [
      "[1 2 3]\n",
      "[1 2 3]\n",
      "[1. 1. 1.]\n"
     ]
    }
   ],
   "source": [
    "from numpy import array\n",
    "a = array([1, 2, 3])\n",
    "print(a)\n",
    "b = array([1, 2, 3])\n",
    "print(b)\n",
    "c = a / b\n",
    "print(c)"
   ]
  },
  {
   "cell_type": "code",
   "execution_count": 8,
   "metadata": {},
   "outputs": [
    {
     "name": "stdout",
     "output_type": "stream",
     "text": [
      "[1 2 3]\n",
      "[1 2 3]\n",
      "14\n"
     ]
    }
   ],
   "source": [
    "\n",
    "# dot product vectors\n",
    "from numpy import array\n",
    "a = array([1, 2, 3])\n",
    "print(a)\n",
    "b = array([1, 2, 3])\n",
    "print(b)\n",
    "c = a.dot(b)\n",
    "print(c)"
   ]
  },
  {
   "cell_type": "code",
   "execution_count": 9,
   "metadata": {},
   "outputs": [
    {
     "name": "stdout",
     "output_type": "stream",
     "text": [
      "[1 2 3]\n",
      "0.5\n",
      "[0.5 1.  1.5]\n"
     ]
    }
   ],
   "source": [
    "\n",
    "# VECTOR AND SCALAR\n",
    "from numpy import array\n",
    "a = array([1, 2, 3])\n",
    "print(a)\n",
    "s = 0.5\n",
    "print(s)\n",
    "c = s * a\n",
    "print(c)"
   ]
  },
  {
   "cell_type": "code",
   "execution_count": null,
   "metadata": {},
   "outputs": [],
   "source": []
  },
  {
   "cell_type": "code",
   "execution_count": null,
   "metadata": {},
   "outputs": [],
   "source": []
  }
 ],
 "metadata": {
  "kernelspec": {
   "display_name": "Python 3",
   "language": "python",
   "name": "python3"
  },
  "language_info": {
   "codemirror_mode": {
    "name": "ipython",
    "version": 3
   },
   "file_extension": ".py",
   "mimetype": "text/x-python",
   "name": "python",
   "nbconvert_exporter": "python",
   "pygments_lexer": "ipython3",
   "version": "3.6.5"
  }
 },
 "nbformat": 4,
 "nbformat_minor": 4
}
